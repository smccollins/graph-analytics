{
 "cells": [
  {
   "cell_type": "code",
   "execution_count": 1,
   "metadata": {
    "ExecuteTime": {
     "end_time": "2017-12-13T08:27:17.953079Z",
     "start_time": "2017-12-13T08:27:14.224703Z"
    },
    "collapsed": false
   },
   "outputs": [],
   "source": [
    "import pandas as pd\n",
    "import numpy as np \n",
    "import os"
   ]
  },
  {
   "cell_type": "markdown",
   "metadata": {},
   "source": [
    "## Character Interactions - Edge Data"
   ]
  },
  {
   "cell_type": "code",
   "execution_count": 18,
   "metadata": {
    "ExecuteTime": {
     "end_time": "2017-12-04T11:44:18.474312Z",
     "start_time": "2017-12-04T11:44:18.384313Z"
    },
    "collapsed": true
   },
   "outputs": [],
   "source": [
    "char_ints_edge = pd.read_csv(\"../data/external/edge_got_5_books.csv\", sep= \",\", na_values='')\n",
    "\n",
    "char_ints_edge['Source'] = char_ints_edge['Source'].str.lower()\n",
    "char_ints_edge['Target'] = char_ints_edge['Target'].str.lower()\n",
    "char_ints_edge.drop(['id','Type'], axis = 1, inplace = True)\n",
    "char_ints_edge['weight_inv'] = float(1)/char_ints_edge['weight']"
   ]
  },
  {
   "cell_type": "code",
   "execution_count": 19,
   "metadata": {
    "ExecuteTime": {
     "end_time": "2017-12-04T11:44:18.564311Z",
     "start_time": "2017-12-04T11:44:18.494312Z"
    },
    "collapsed": false
   },
   "outputs": [
    {
     "data": {
      "text/html": [
       "<div>\n",
       "<table border=\"1\" class=\"dataframe\">\n",
       "  <thead>\n",
       "    <tr style=\"text-align: right;\">\n",
       "      <th></th>\n",
       "      <th>Source</th>\n",
       "      <th>Target</th>\n",
       "      <th>weight</th>\n",
       "      <th>weight_inv</th>\n",
       "    </tr>\n",
       "  </thead>\n",
       "  <tbody>\n",
       "    <tr>\n",
       "      <th>0</th>\n",
       "      <td>addam-marbrand</td>\n",
       "      <td>brynden-tully</td>\n",
       "      <td>3</td>\n",
       "      <td>0.333333</td>\n",
       "    </tr>\n",
       "    <tr>\n",
       "      <th>1</th>\n",
       "      <td>addam-marbrand</td>\n",
       "      <td>cersei-lannister</td>\n",
       "      <td>3</td>\n",
       "      <td>0.333333</td>\n",
       "    </tr>\n",
       "    <tr>\n",
       "      <th>2</th>\n",
       "      <td>addam-marbrand</td>\n",
       "      <td>gyles-rosby</td>\n",
       "      <td>3</td>\n",
       "      <td>0.333333</td>\n",
       "    </tr>\n",
       "    <tr>\n",
       "      <th>3</th>\n",
       "      <td>addam-marbrand</td>\n",
       "      <td>jaime-lannister</td>\n",
       "      <td>14</td>\n",
       "      <td>0.071429</td>\n",
       "    </tr>\n",
       "    <tr>\n",
       "      <th>4</th>\n",
       "      <td>addam-marbrand</td>\n",
       "      <td>jalabhar-xho</td>\n",
       "      <td>3</td>\n",
       "      <td>0.333333</td>\n",
       "    </tr>\n",
       "  </tbody>\n",
       "</table>\n",
       "</div>"
      ],
      "text/plain": [
       "           Source            Target  weight  weight_inv\n",
       "0  addam-marbrand     brynden-tully       3    0.333333\n",
       "1  addam-marbrand  cersei-lannister       3    0.333333\n",
       "2  addam-marbrand       gyles-rosby       3    0.333333\n",
       "3  addam-marbrand   jaime-lannister      14    0.071429\n",
       "4  addam-marbrand      jalabhar-xho       3    0.333333"
      ]
     },
     "execution_count": 19,
     "metadata": {},
     "output_type": "execute_result"
    }
   ],
   "source": [
    "char_ints_edge.head()"
   ]
  },
  {
   "cell_type": "markdown",
   "metadata": {},
   "source": [
    "## Character Names - Node Data"
   ]
  },
  {
   "cell_type": "code",
   "execution_count": 20,
   "metadata": {
    "ExecuteTime": {
     "end_time": "2017-12-04T11:44:18.594311Z",
     "start_time": "2017-12-04T11:44:18.564311Z"
    },
    "collapsed": true
   },
   "outputs": [],
   "source": [
    "char_ints_node = pd.read_csv(\"../data/external/node_got_5_books.csv\", sep= \",\", na_values='')\n",
    "char_ints_node['Id'] = char_ints_node['Id'].str.lower()"
   ]
  },
  {
   "cell_type": "code",
   "execution_count": 21,
   "metadata": {
    "ExecuteTime": {
     "end_time": "2017-12-04T11:44:18.664310Z",
     "start_time": "2017-12-04T11:44:18.604311Z"
    },
    "collapsed": true
   },
   "outputs": [],
   "source": [
    "char_int_unq = char_ints_node['Id'].unique()"
   ]
  },
  {
   "cell_type": "code",
   "execution_count": 22,
   "metadata": {
    "ExecuteTime": {
     "end_time": "2017-12-04T11:44:18.744310Z",
     "start_time": "2017-12-04T11:44:18.674310Z"
    },
    "collapsed": false
   },
   "outputs": [
    {
     "data": {
      "text/html": [
       "<div>\n",
       "<table border=\"1\" class=\"dataframe\">\n",
       "  <thead>\n",
       "    <tr style=\"text-align: right;\">\n",
       "      <th></th>\n",
       "      <th>Id</th>\n",
       "      <th>Label</th>\n",
       "    </tr>\n",
       "  </thead>\n",
       "  <tbody>\n",
       "    <tr>\n",
       "      <th>0</th>\n",
       "      <td>addam-marbrand</td>\n",
       "      <td>Addam Marbrand</td>\n",
       "    </tr>\n",
       "    <tr>\n",
       "      <th>1</th>\n",
       "      <td>aegon-frey-(son-of-stevron)</td>\n",
       "      <td>Aegon Frey (son of Stevron)</td>\n",
       "    </tr>\n",
       "    <tr>\n",
       "      <th>2</th>\n",
       "      <td>aegon-i-targaryen</td>\n",
       "      <td>Aegon I Targaryen</td>\n",
       "    </tr>\n",
       "    <tr>\n",
       "      <th>3</th>\n",
       "      <td>aegon-targaryen-(son-of-rhaegar)</td>\n",
       "      <td>Aegon Targaryen (son of Rhaegar)</td>\n",
       "    </tr>\n",
       "    <tr>\n",
       "      <th>4</th>\n",
       "      <td>aegon-v-targaryen</td>\n",
       "      <td>Aegon V Targaryen</td>\n",
       "    </tr>\n",
       "  </tbody>\n",
       "</table>\n",
       "</div>"
      ],
      "text/plain": [
       "                                 Id                             Label\n",
       "0                    addam-marbrand                    Addam Marbrand\n",
       "1       aegon-frey-(son-of-stevron)       Aegon Frey (son of Stevron)\n",
       "2                 aegon-i-targaryen                 Aegon I Targaryen\n",
       "3  aegon-targaryen-(son-of-rhaegar)  Aegon Targaryen (son of Rhaegar)\n",
       "4                 aegon-v-targaryen                 Aegon V Targaryen"
      ]
     },
     "execution_count": 22,
     "metadata": {},
     "output_type": "execute_result"
    }
   ],
   "source": [
    "char_ints_node.head()"
   ]
  },
  {
   "cell_type": "markdown",
   "metadata": {},
   "source": [
    "## Character Deaths - Node Attributes"
   ]
  },
  {
   "cell_type": "code",
   "execution_count": 23,
   "metadata": {
    "ExecuteTime": {
     "end_time": "2017-12-04T11:44:18.884308Z",
     "start_time": "2017-12-04T11:44:18.764309Z"
    },
    "collapsed": false
   },
   "outputs": [],
   "source": [
    "char_deaths = pd.read_csv(\"../data/external/character-deaths.csv\", sep= \",\", na_values='')\n",
    "\n",
    "char_deaths['name_id'] = char_deaths['Name'].str.lower().str.replace(' ', '-')\n",
    "char_deaths['Dead'] = np.where(char_deaths[['Death Year']] > 0 , 1, 0)\n",
    "\n",
    "#Clean off House. Keep only as allegiance column.\n",
    "# Last name is allegiance \n",
    "char_deaths['Allegiances'] = char_deaths['Allegiances'].str.replace('House', '').str.strip()\n",
    "char_deaths['Allegiances'] = char_deaths['Allegiances'].astype(object).fillna(\"UNKNOWN\")\n",
    "\n",
    "#Clean off alliance numbs, Name, death year, book, chapter, intro\n",
    "char_deaths.drop(['Name', 'Death Year', 'Book of Death', 'Death Chapter', 'Book Intro Chapter'], axis=1, inplace = True)"
   ]
  },
  {
   "cell_type": "code",
   "execution_count": 24,
   "metadata": {
    "ExecuteTime": {
     "end_time": "2017-12-04T11:44:18.994307Z",
     "start_time": "2017-12-04T11:44:18.904308Z"
    },
    "collapsed": false
   },
   "outputs": [
    {
     "name": "stdout",
     "output_type": "stream",
     "text": [
      "917\n"
     ]
    },
    {
     "data": {
      "text/html": [
       "<div>\n",
       "<table border=\"1\" class=\"dataframe\">\n",
       "  <thead>\n",
       "    <tr style=\"text-align: right;\">\n",
       "      <th></th>\n",
       "      <th>Allegiances</th>\n",
       "      <th>Gender</th>\n",
       "      <th>Nobility</th>\n",
       "      <th>GoT</th>\n",
       "      <th>CoK</th>\n",
       "      <th>SoS</th>\n",
       "      <th>FfC</th>\n",
       "      <th>DwD</th>\n",
       "      <th>name_id</th>\n",
       "      <th>Dead</th>\n",
       "    </tr>\n",
       "  </thead>\n",
       "  <tbody>\n",
       "    <tr>\n",
       "      <th>0</th>\n",
       "      <td>Lannister</td>\n",
       "      <td>1</td>\n",
       "      <td>1</td>\n",
       "      <td>1</td>\n",
       "      <td>1</td>\n",
       "      <td>1</td>\n",
       "      <td>1</td>\n",
       "      <td>0</td>\n",
       "      <td>addam-marbrand</td>\n",
       "      <td>0</td>\n",
       "    </tr>\n",
       "    <tr>\n",
       "      <th>1</th>\n",
       "      <td>None</td>\n",
       "      <td>1</td>\n",
       "      <td>1</td>\n",
       "      <td>0</td>\n",
       "      <td>0</td>\n",
       "      <td>1</td>\n",
       "      <td>0</td>\n",
       "      <td>0</td>\n",
       "      <td>aegon-frey-(jinglebell)</td>\n",
       "      <td>1</td>\n",
       "    </tr>\n",
       "    <tr>\n",
       "      <th>2</th>\n",
       "      <td>Targaryen</td>\n",
       "      <td>1</td>\n",
       "      <td>1</td>\n",
       "      <td>0</td>\n",
       "      <td>0</td>\n",
       "      <td>0</td>\n",
       "      <td>0</td>\n",
       "      <td>1</td>\n",
       "      <td>aegon-targaryen</td>\n",
       "      <td>0</td>\n",
       "    </tr>\n",
       "    <tr>\n",
       "      <th>3</th>\n",
       "      <td>Greyjoy</td>\n",
       "      <td>1</td>\n",
       "      <td>1</td>\n",
       "      <td>0</td>\n",
       "      <td>0</td>\n",
       "      <td>0</td>\n",
       "      <td>0</td>\n",
       "      <td>1</td>\n",
       "      <td>adrack-humble</td>\n",
       "      <td>1</td>\n",
       "    </tr>\n",
       "    <tr>\n",
       "      <th>4</th>\n",
       "      <td>Lannister</td>\n",
       "      <td>1</td>\n",
       "      <td>1</td>\n",
       "      <td>0</td>\n",
       "      <td>0</td>\n",
       "      <td>1</td>\n",
       "      <td>0</td>\n",
       "      <td>0</td>\n",
       "      <td>aemon-costayne</td>\n",
       "      <td>0</td>\n",
       "    </tr>\n",
       "  </tbody>\n",
       "</table>\n",
       "</div>"
      ],
      "text/plain": [
       "  Allegiances  Gender  Nobility  GoT  CoK  SoS  FfC  DwD  \\\n",
       "0   Lannister       1         1    1    1    1    1    0   \n",
       "1        None       1         1    0    0    1    0    0   \n",
       "2   Targaryen       1         1    0    0    0    0    1   \n",
       "3     Greyjoy       1         1    0    0    0    0    1   \n",
       "4   Lannister       1         1    0    0    1    0    0   \n",
       "\n",
       "                   name_id  Dead  \n",
       "0           addam-marbrand     0  \n",
       "1  aegon-frey-(jinglebell)     1  \n",
       "2          aegon-targaryen     0  \n",
       "3            adrack-humble     1  \n",
       "4           aemon-costayne     0  "
      ]
     },
     "execution_count": 24,
     "metadata": {},
     "output_type": "execute_result"
    }
   ],
   "source": [
    "print(len(char_deaths))\n",
    "char_deaths.head()"
   ]
  },
  {
   "cell_type": "code",
   "execution_count": 25,
   "metadata": {
    "ExecuteTime": {
     "end_time": "2017-12-04T11:44:19.064306Z",
     "start_time": "2017-12-04T11:44:19.004307Z"
    },
    "collapsed": false
   },
   "outputs": [],
   "source": [
    "# 568 characters in Death dataset found in Character Interaction set\n",
    "char_join = pd.DataFrame({'name_id' : list(set(char_int_unq) & set(char_deaths['name_id'].unique()))})\n",
    "char_deaths_filt = char_deaths.merge(char_join, how=\"inner\")"
   ]
  },
  {
   "cell_type": "code",
   "execution_count": 26,
   "metadata": {
    "ExecuteTime": {
     "end_time": "2017-12-04T11:44:19.144306Z",
     "start_time": "2017-12-04T11:44:19.084306Z"
    },
    "collapsed": false
   },
   "outputs": [
    {
     "name": "stdout",
     "output_type": "stream",
     "text": [
      "568\n"
     ]
    },
    {
     "data": {
      "text/html": [
       "<div>\n",
       "<table border=\"1\" class=\"dataframe\">\n",
       "  <thead>\n",
       "    <tr style=\"text-align: right;\">\n",
       "      <th></th>\n",
       "      <th>Allegiances</th>\n",
       "      <th>Gender</th>\n",
       "      <th>Nobility</th>\n",
       "      <th>GoT</th>\n",
       "      <th>CoK</th>\n",
       "      <th>SoS</th>\n",
       "      <th>FfC</th>\n",
       "      <th>DwD</th>\n",
       "      <th>name_id</th>\n",
       "      <th>Dead</th>\n",
       "    </tr>\n",
       "  </thead>\n",
       "  <tbody>\n",
       "    <tr>\n",
       "      <th>0</th>\n",
       "      <td>Lannister</td>\n",
       "      <td>1</td>\n",
       "      <td>1</td>\n",
       "      <td>1</td>\n",
       "      <td>1</td>\n",
       "      <td>1</td>\n",
       "      <td>1</td>\n",
       "      <td>0</td>\n",
       "      <td>addam-marbrand</td>\n",
       "      <td>0</td>\n",
       "    </tr>\n",
       "    <tr>\n",
       "      <th>1</th>\n",
       "      <td>Night's Watch</td>\n",
       "      <td>1</td>\n",
       "      <td>1</td>\n",
       "      <td>1</td>\n",
       "      <td>0</td>\n",
       "      <td>1</td>\n",
       "      <td>1</td>\n",
       "      <td>0</td>\n",
       "      <td>aemon-targaryen-(maester-aemon)</td>\n",
       "      <td>1</td>\n",
       "    </tr>\n",
       "    <tr>\n",
       "      <th>2</th>\n",
       "      <td>None</td>\n",
       "      <td>0</td>\n",
       "      <td>1</td>\n",
       "      <td>1</td>\n",
       "      <td>1</td>\n",
       "      <td>1</td>\n",
       "      <td>0</td>\n",
       "      <td>1</td>\n",
       "      <td>aenys-frey</td>\n",
       "      <td>1</td>\n",
       "    </tr>\n",
       "    <tr>\n",
       "      <th>3</th>\n",
       "      <td>Greyjoy</td>\n",
       "      <td>1</td>\n",
       "      <td>1</td>\n",
       "      <td>0</td>\n",
       "      <td>1</td>\n",
       "      <td>0</td>\n",
       "      <td>1</td>\n",
       "      <td>0</td>\n",
       "      <td>aeron-greyjoy</td>\n",
       "      <td>0</td>\n",
       "    </tr>\n",
       "    <tr>\n",
       "      <th>4</th>\n",
       "      <td>Greyjoy</td>\n",
       "      <td>1</td>\n",
       "      <td>0</td>\n",
       "      <td>0</td>\n",
       "      <td>1</td>\n",
       "      <td>0</td>\n",
       "      <td>0</td>\n",
       "      <td>0</td>\n",
       "      <td>aggar</td>\n",
       "      <td>1</td>\n",
       "    </tr>\n",
       "  </tbody>\n",
       "</table>\n",
       "</div>"
      ],
      "text/plain": [
       "     Allegiances  Gender  Nobility  GoT  CoK  SoS  FfC  DwD  \\\n",
       "0      Lannister       1         1    1    1    1    1    0   \n",
       "1  Night's Watch       1         1    1    0    1    1    0   \n",
       "2           None       0         1    1    1    1    0    1   \n",
       "3        Greyjoy       1         1    0    1    0    1    0   \n",
       "4        Greyjoy       1         0    0    1    0    0    0   \n",
       "\n",
       "                           name_id  Dead  \n",
       "0                   addam-marbrand     0  \n",
       "1  aemon-targaryen-(maester-aemon)     1  \n",
       "2                       aenys-frey     1  \n",
       "3                    aeron-greyjoy     0  \n",
       "4                            aggar     1  "
      ]
     },
     "execution_count": 26,
     "metadata": {},
     "output_type": "execute_result"
    }
   ],
   "source": [
    "print(len(char_deaths_filt))\n",
    "char_deaths_filt.head()"
   ]
  },
  {
   "cell_type": "code",
   "execution_count": 27,
   "metadata": {
    "ExecuteTime": {
     "end_time": "2017-12-04T11:44:19.224305Z",
     "start_time": "2017-12-04T11:44:19.164305Z"
    },
    "collapsed": false
   },
   "outputs": [],
   "source": [
    "char_ints_node = pd.merge(char_ints_node, char_deaths_filt, how=\"left\", left_on = 'Id', right_on = 'name_id').\\\n",
    "                    drop('name_id', axis = 1)"
   ]
  },
  {
   "cell_type": "code",
   "execution_count": 28,
   "metadata": {
    "ExecuteTime": {
     "end_time": "2017-12-04T11:44:19.305304Z",
     "start_time": "2017-12-04T11:44:19.234305Z"
    },
    "collapsed": false
   },
   "outputs": [
    {
     "data": {
      "text/html": [
       "<div>\n",
       "<table border=\"1\" class=\"dataframe\">\n",
       "  <thead>\n",
       "    <tr style=\"text-align: right;\">\n",
       "      <th></th>\n",
       "      <th>Id</th>\n",
       "      <th>Label</th>\n",
       "      <th>Allegiances</th>\n",
       "      <th>Gender</th>\n",
       "      <th>Nobility</th>\n",
       "      <th>GoT</th>\n",
       "      <th>CoK</th>\n",
       "      <th>SoS</th>\n",
       "      <th>FfC</th>\n",
       "      <th>DwD</th>\n",
       "      <th>Dead</th>\n",
       "    </tr>\n",
       "  </thead>\n",
       "  <tbody>\n",
       "    <tr>\n",
       "      <th>0</th>\n",
       "      <td>addam-marbrand</td>\n",
       "      <td>Addam Marbrand</td>\n",
       "      <td>Lannister</td>\n",
       "      <td>1.0</td>\n",
       "      <td>1.0</td>\n",
       "      <td>1.0</td>\n",
       "      <td>1.0</td>\n",
       "      <td>1.0</td>\n",
       "      <td>1.0</td>\n",
       "      <td>0.0</td>\n",
       "      <td>0.0</td>\n",
       "    </tr>\n",
       "    <tr>\n",
       "      <th>1</th>\n",
       "      <td>aegon-frey-(son-of-stevron)</td>\n",
       "      <td>Aegon Frey (son of Stevron)</td>\n",
       "      <td>NaN</td>\n",
       "      <td>NaN</td>\n",
       "      <td>NaN</td>\n",
       "      <td>NaN</td>\n",
       "      <td>NaN</td>\n",
       "      <td>NaN</td>\n",
       "      <td>NaN</td>\n",
       "      <td>NaN</td>\n",
       "      <td>NaN</td>\n",
       "    </tr>\n",
       "    <tr>\n",
       "      <th>2</th>\n",
       "      <td>aegon-i-targaryen</td>\n",
       "      <td>Aegon I Targaryen</td>\n",
       "      <td>NaN</td>\n",
       "      <td>NaN</td>\n",
       "      <td>NaN</td>\n",
       "      <td>NaN</td>\n",
       "      <td>NaN</td>\n",
       "      <td>NaN</td>\n",
       "      <td>NaN</td>\n",
       "      <td>NaN</td>\n",
       "      <td>NaN</td>\n",
       "    </tr>\n",
       "    <tr>\n",
       "      <th>3</th>\n",
       "      <td>aegon-targaryen-(son-of-rhaegar)</td>\n",
       "      <td>Aegon Targaryen (son of Rhaegar)</td>\n",
       "      <td>NaN</td>\n",
       "      <td>NaN</td>\n",
       "      <td>NaN</td>\n",
       "      <td>NaN</td>\n",
       "      <td>NaN</td>\n",
       "      <td>NaN</td>\n",
       "      <td>NaN</td>\n",
       "      <td>NaN</td>\n",
       "      <td>NaN</td>\n",
       "    </tr>\n",
       "    <tr>\n",
       "      <th>4</th>\n",
       "      <td>aegon-v-targaryen</td>\n",
       "      <td>Aegon V Targaryen</td>\n",
       "      <td>NaN</td>\n",
       "      <td>NaN</td>\n",
       "      <td>NaN</td>\n",
       "      <td>NaN</td>\n",
       "      <td>NaN</td>\n",
       "      <td>NaN</td>\n",
       "      <td>NaN</td>\n",
       "      <td>NaN</td>\n",
       "      <td>NaN</td>\n",
       "    </tr>\n",
       "  </tbody>\n",
       "</table>\n",
       "</div>"
      ],
      "text/plain": [
       "                                 Id                             Label  \\\n",
       "0                    addam-marbrand                    Addam Marbrand   \n",
       "1       aegon-frey-(son-of-stevron)       Aegon Frey (son of Stevron)   \n",
       "2                 aegon-i-targaryen                 Aegon I Targaryen   \n",
       "3  aegon-targaryen-(son-of-rhaegar)  Aegon Targaryen (son of Rhaegar)   \n",
       "4                 aegon-v-targaryen                 Aegon V Targaryen   \n",
       "\n",
       "  Allegiances  Gender  Nobility  GoT  CoK  SoS  FfC  DwD  Dead  \n",
       "0   Lannister     1.0       1.0  1.0  1.0  1.0  1.0  0.0   0.0  \n",
       "1         NaN     NaN       NaN  NaN  NaN  NaN  NaN  NaN   NaN  \n",
       "2         NaN     NaN       NaN  NaN  NaN  NaN  NaN  NaN   NaN  \n",
       "3         NaN     NaN       NaN  NaN  NaN  NaN  NaN  NaN   NaN  \n",
       "4         NaN     NaN       NaN  NaN  NaN  NaN  NaN  NaN   NaN  "
      ]
     },
     "execution_count": 28,
     "metadata": {},
     "output_type": "execute_result"
    }
   ],
   "source": [
    "char_ints_node.head()"
   ]
  },
  {
   "cell_type": "code",
   "execution_count": 29,
   "metadata": {
    "ExecuteTime": {
     "end_time": "2017-12-04T11:44:19.386303Z",
     "start_time": "2017-12-04T11:44:19.336304Z"
    },
    "collapsed": false
   },
   "outputs": [
    {
     "data": {
      "text/html": [
       "<div>\n",
       "<table border=\"1\" class=\"dataframe\">\n",
       "  <thead>\n",
       "    <tr style=\"text-align: right;\">\n",
       "      <th></th>\n",
       "      <th>Source</th>\n",
       "      <th>Target</th>\n",
       "      <th>weight</th>\n",
       "      <th>weight_inv</th>\n",
       "    </tr>\n",
       "  </thead>\n",
       "  <tbody>\n",
       "    <tr>\n",
       "      <th>0</th>\n",
       "      <td>addam-marbrand</td>\n",
       "      <td>brynden-tully</td>\n",
       "      <td>3</td>\n",
       "      <td>0.333333</td>\n",
       "    </tr>\n",
       "    <tr>\n",
       "      <th>1</th>\n",
       "      <td>addam-marbrand</td>\n",
       "      <td>cersei-lannister</td>\n",
       "      <td>3</td>\n",
       "      <td>0.333333</td>\n",
       "    </tr>\n",
       "    <tr>\n",
       "      <th>2</th>\n",
       "      <td>addam-marbrand</td>\n",
       "      <td>gyles-rosby</td>\n",
       "      <td>3</td>\n",
       "      <td>0.333333</td>\n",
       "    </tr>\n",
       "    <tr>\n",
       "      <th>3</th>\n",
       "      <td>addam-marbrand</td>\n",
       "      <td>jaime-lannister</td>\n",
       "      <td>14</td>\n",
       "      <td>0.071429</td>\n",
       "    </tr>\n",
       "    <tr>\n",
       "      <th>4</th>\n",
       "      <td>addam-marbrand</td>\n",
       "      <td>jalabhar-xho</td>\n",
       "      <td>3</td>\n",
       "      <td>0.333333</td>\n",
       "    </tr>\n",
       "  </tbody>\n",
       "</table>\n",
       "</div>"
      ],
      "text/plain": [
       "           Source            Target  weight  weight_inv\n",
       "0  addam-marbrand     brynden-tully       3    0.333333\n",
       "1  addam-marbrand  cersei-lannister       3    0.333333\n",
       "2  addam-marbrand       gyles-rosby       3    0.333333\n",
       "3  addam-marbrand   jaime-lannister      14    0.071429\n",
       "4  addam-marbrand      jalabhar-xho       3    0.333333"
      ]
     },
     "execution_count": 29,
     "metadata": {},
     "output_type": "execute_result"
    }
   ],
   "source": [
    "char_ints_edge.head()"
   ]
  },
  {
   "cell_type": "code",
   "execution_count": 30,
   "metadata": {
    "ExecuteTime": {
     "end_time": "2017-12-04T11:44:19.536302Z",
     "start_time": "2017-12-04T11:44:19.396303Z"
    },
    "collapsed": true
   },
   "outputs": [],
   "source": [
    "char_ints_node.to_csv(path_or_buf=\"../data/processed/character_interactions_node.csv\", index = False)\n",
    "char_ints_edge.to_csv(path_or_buf=\"../data/processed/character_interactions_edge.csv\", index=False)"
   ]
  }
 ],
 "metadata": {
  "hide_input": false,
  "kernelspec": {
   "display_name": "Python 3",
   "language": "python",
   "name": "python3"
  },
  "language_info": {
   "codemirror_mode": {
    "name": "ipython",
    "version": 3
   },
   "file_extension": ".py",
   "mimetype": "text/x-python",
   "name": "python",
   "nbconvert_exporter": "python",
   "pygments_lexer": "ipython3",
   "version": "3.6.0"
  }
 },
 "nbformat": 4,
 "nbformat_minor": 2
}
