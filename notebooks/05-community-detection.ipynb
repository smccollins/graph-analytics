{
 "cells": [
  {
   "cell_type": "code",
   "execution_count": 1,
   "metadata": {
    "collapsed": false
   },
   "outputs": [
    {
     "data": {
      "text/html": [
       "<script>jQuery(function() {if (jQuery(\"body.notebook_app\").length == 0) { jQuery(\".input_area\").toggle(); jQuery(\".prompt\").toggle();}});</script>"
      ]
     },
     "metadata": {},
     "output_type": "display_data"
    }
   ],
   "source": [
    "import IPython.core.display as di\n",
    "\n",
    "# This line will hide code by default when the notebook is exported as HTML\n",
    "di.display_html('<script>jQuery(function() {if (jQuery(\"body.notebook_app\").length == 0) { jQuery(\".input_area\").toggle(); jQuery(\".prompt\").toggle();}});</script>', raw=True)\n",
    "\n",
    "import numpy as np\n",
    "import networkx as nx\n",
    "import pandas as pd\n",
    "import matplotlib.pyplot as plt \n",
    "import seaborn as sns\n",
    "from pylab import show\n",
    "\n",
    "from bokeh.io import show, output_file\n",
    "from bokeh.plotting import figure, save\n",
    "from bokeh.models import Plot, Range1d, MultiLine, Circle, HoverTool, TapTool, BoxSelectTool, ColumnDataSource\n",
    "from bokeh.models.graphs import from_networkx, NodesAndLinkedEdges, EdgesAndLinkedNodes\n",
    "from bokeh.palettes import Spectral4\n",
    "\n",
    "from IPython.display import IFrame\n",
    "\n",
    "%matplotlib inline\n",
    "\n",
    "# read in the pickled graph object and dataframes\n",
    "G = pd.read_pickle(\"../data/processed/got_graph.gpickle\")\n",
    "\n",
    "edge = pd.read_csv(\"../data/processed/character_interactions_edge.csv\", sep= \",\")\n",
    "node = pd.read_csv(\"../data/processed/character_interactions_node.csv\", sep= \",\")\n",
    "\n",
    "trim = dict((i,j) for i,j in G.degree().items() if j <= 3)\n",
    "\n",
    "def trimming(G):\n",
    " G_trim = G.copy()\n",
    " for k, v in G.degree().items():\n",
    "  if v <= 3:\n",
    "   G_trim.remove_node(k)\n",
    " return G_trim\n",
    "\n",
    "G_trim = trimming(G)"
   ]
  },
  {
   "cell_type": "markdown",
   "metadata": {},
   "source": [
    "# <span style=\"color:#0000CD\"> Community Detection </span>\n",
    "\n",
    "## Objectives  \n",
    "### - What is a community?  \n",
    "### - Cliques  \n"
   ]
  },
  {
   "cell_type": "markdown",
   "metadata": {},
   "source": [
    "## <span style=\"color:#0000CD\"> What is a Community? </span>\n",
    "\n",
    "### Definition\n",
    "\n",
    "Nodes that can be easily grouped into sets with the potential of overlapping such that each set is densely connected internally form a community. \n",
    "<br>\n",
    "<br>\n",
    "**Community Detection:** \n",
    "\n",
    "&nbsp;&nbsp;&nbsp;&nbsp;The problem of finding natural divisions of a network such that edges within groups are maximized and edges between groups are minimized."
   ]
  },
  {
   "cell_type": "markdown",
   "metadata": {
    "collapsed": true
   },
   "source": [
    "## <span style=\"color:#0000CD\">  Cliques  </span> \n",
    "\n",
    "### Definition\n",
    "\n",
    "A clique is a subset of vertices of an undirected graph such that;\n",
    "    1) every two vertices are adjacent and \n",
    "    2) it forms a complete graph such that every pair of distinct vertices is connected by a unique edge. \n",
    "No additional nodes can be added to the subset without making the subgraph less connected.  \n",
    "\n",
    "\n",
    "<img src=\"../img/clique.png\" width=\"500\">"
   ]
  },
  {
   "cell_type": "markdown",
   "metadata": {},
   "source": [
    "**Maximal Clique:** \n",
    "\n",
    "&nbsp;&nbsp;&nbsp;&nbsp;A clique that cannot be extended by including one more adjacent vertex, meaning it does not exist exclusively within the vertex set of a larger clique.\n",
    "\n",
    "**Maximum Clique:** \n",
    "\n",
    "&nbsp;&nbsp;&nbsp;&nbsp;A clique such that there is no clique with more vertices. \n",
    "\n",
    "\n",
    "<img src=\"../img/maxclique.png\" width=\"500\">"
   ]
  },
  {
   "cell_type": "markdown",
   "metadata": {},
   "source": [
    "###  <span style=\"color:green\">  Knowledge Check: </span>\n",
    "\n",
    "***Classify the above networks created by the red nodes and edges as maximal or maximum depending on which clique it portrays.***"
   ]
  },
  {
   "cell_type": "code",
   "execution_count": 2,
   "metadata": {
    "collapsed": false
   },
   "outputs": [
    {
     "name": "stdout",
     "output_type": "stream",
     "text": [
      "Trimmed Graph Summary:\n",
      " \n",
      "Name: Game of Thrones Character Interactions\n",
      "Type: Graph\n",
      "Number of nodes: 377\n",
      "Number of edges: 2151\n",
      "Average degree:  11.4111\n"
     ]
    }
   ],
   "source": [
    "print(\"Trimmed Graph Summary:\")\n",
    "print(\" \")\n",
    "print(nx.info(G_trim))"
   ]
  },
  {
   "cell_type": "code",
   "execution_count": 3,
   "metadata": {
    "collapsed": false
   },
   "outputs": [
    {
     "name": "stdout",
     "output_type": "stream",
     "text": [
      "Number of cliques in our trimmed graph:\n"
     ]
    },
    {
     "data": {
      "text/plain": [
       "746"
      ]
     },
     "execution_count": 3,
     "metadata": {},
     "output_type": "execute_result"
    }
   ],
   "source": [
    "print(\"Number of cliques in our trimmed graph:\")\n",
    "cliques = nx.find_cliques(G_trim)\n",
    "clique_list = list(cliques)\n",
    "len(clique_list)"
   ]
  },
  {
   "cell_type": "code",
   "execution_count": 4,
   "metadata": {
    "collapsed": false
   },
   "outputs": [
    {
     "name": "stdout",
     "output_type": "stream",
     "text": [
      "Maximum clique size:\n"
     ]
    },
    {
     "data": {
      "text/plain": [
       "14"
      ]
     },
     "execution_count": 4,
     "metadata": {},
     "output_type": "execute_result"
    }
   ],
   "source": [
    "print(\"Maximum clique size:\")\n",
    "nx.graph_clique_number(G_trim)"
   ]
  },
  {
   "cell_type": "code",
   "execution_count": 5,
   "metadata": {
    "collapsed": false
   },
   "outputs": [
    {
     "data": {
      "image/png": "[encoded data removed]",
      "text/plain": [
       "<matplotlib.figure.Figure at 0xbeeafd0>"
      ]
     },
     "metadata": {},
     "output_type": "display_data"
    }
   ],
   "source": [
    "def by_len(grps):\n",
    "    return [grp for grp in grps if len(grp) == 14]\n",
    "max_clique = by_len(clique_list)\n",
    "G_clique = G_trim.subgraph(max_clique[0])\n",
    "\n",
    "from pylab import show\n",
    "plt.figure(figsize=(10,10));\n",
    "plt.suptitle('Maximum Clique Graph', fontsize=20)\n",
    "plt.autoscale(enable=True, axis='both', tight=True)\n",
    "plt.axis('off')\n",
    "\n",
    "# create the layout\n",
    "spring_pos = nx.fruchterman_reingold_layout(G, scale=2, center=(0,0))\n",
    "\n",
    "# draw the nodes and the edges (all)\n",
    "nx.draw_networkx_nodes(G_trim, pos = spring_pos,\n",
    "                       node_color='b',\n",
    "                       alpha=0.2,\n",
    "                       node_size=8)\n",
    "nx.draw_networkx_edges(G_trim, pos = spring_pos, \n",
    "                       alpha=0.1)\n",
    "\n",
    "# draw the most important nodes with a different style\n",
    "nx.draw_networkx_nodes(G_clique, pos = spring_pos,\n",
    "                       label = 'Maximum Clique',\n",
    "                       node_color='r',\n",
    "                       alpha=0.9,\n",
    "                       node_size=75,\n",
    "                       node_shape='s')\n",
    "# also the labels this time\n",
    "#nx.draw_networkx_labels(G_clique, pos = spring_pos,\n",
    "                        #font_size=12,\n",
    "                        #font_color=Spectral4[0])\n",
    "        \n",
    "plt.legend(numpoints=1, loc='best', markerscale=2, fontsize=15)\n",
    "plt.show()"
   ]
  },
  {
   "cell_type": "code",
   "execution_count": 6,
   "metadata": {
    "collapsed": false
   },
   "outputs": [
    {
     "name": "stdout",
     "output_type": "stream",
     "text": [
      "Maximum Clique Node Table:\n",
      " \n"
     ]
    },
    {
     "data": {
      "text/html": [
       "<div>\n",
       "<table border=\"1\" class=\"dataframe\">\n",
       "  <thead>\n",
       "    <tr style=\"text-align: right;\">\n",
       "      <th></th>\n",
       "      <th>Id</th>\n",
       "      <th>Label</th>\n",
       "      <th>Degree</th>\n",
       "      <th>Betweenness</th>\n",
       "    </tr>\n",
       "  </thead>\n",
       "  <tbody>\n",
       "    <tr>\n",
       "      <th>0</th>\n",
       "      <td>catelyn-stark</td>\n",
       "      <td>Catelyn Stark</td>\n",
       "      <td>75</td>\n",
       "      <td>0.049472</td>\n",
       "    </tr>\n",
       "    <tr>\n",
       "      <th>1</th>\n",
       "      <td>cersei-lannister</td>\n",
       "      <td>Cersei Lannister</td>\n",
       "      <td>97</td>\n",
       "      <td>0.096565</td>\n",
       "    </tr>\n",
       "    <tr>\n",
       "      <th>2</th>\n",
       "      <td>eddard-stark</td>\n",
       "      <td>Eddard Stark</td>\n",
       "      <td>74</td>\n",
       "      <td>0.049630</td>\n",
       "    </tr>\n",
       "    <tr>\n",
       "      <th>3</th>\n",
       "      <td>jaime-lannister</td>\n",
       "      <td>Jaime Lannister</td>\n",
       "      <td>101</td>\n",
       "      <td>0.081718</td>\n",
       "    </tr>\n",
       "    <tr>\n",
       "      <th>4</th>\n",
       "      <td>joffrey-baratheon</td>\n",
       "      <td>Joffrey Baratheon</td>\n",
       "      <td>69</td>\n",
       "      <td>0.034769</td>\n",
       "    </tr>\n",
       "    <tr>\n",
       "      <th>5</th>\n",
       "      <td>petyr-baelish</td>\n",
       "      <td>Petyr Baelish</td>\n",
       "      <td>47</td>\n",
       "      <td>0.032587</td>\n",
       "    </tr>\n",
       "    <tr>\n",
       "      <th>6</th>\n",
       "      <td>renly-baratheon</td>\n",
       "      <td>Renly Baratheon</td>\n",
       "      <td>38</td>\n",
       "      <td>0.011139</td>\n",
       "    </tr>\n",
       "    <tr>\n",
       "      <th>7</th>\n",
       "      <td>robb-stark</td>\n",
       "      <td>Robb Stark</td>\n",
       "      <td>74</td>\n",
       "      <td>0.056787</td>\n",
       "    </tr>\n",
       "    <tr>\n",
       "      <th>8</th>\n",
       "      <td>robert-baratheon</td>\n",
       "      <td>Robert Baratheon</td>\n",
       "      <td>65</td>\n",
       "      <td>0.079058</td>\n",
       "    </tr>\n",
       "    <tr>\n",
       "      <th>9</th>\n",
       "      <td>sansa-stark</td>\n",
       "      <td>Sansa Stark</td>\n",
       "      <td>75</td>\n",
       "      <td>0.058324</td>\n",
       "    </tr>\n",
       "    <tr>\n",
       "      <th>10</th>\n",
       "      <td>stannis-baratheon</td>\n",
       "      <td>Stannis Baratheon</td>\n",
       "      <td>89</td>\n",
       "      <td>0.098967</td>\n",
       "    </tr>\n",
       "    <tr>\n",
       "      <th>11</th>\n",
       "      <td>tyrion-lannister</td>\n",
       "      <td>Tyrion Lannister</td>\n",
       "      <td>122</td>\n",
       "      <td>0.147212</td>\n",
       "    </tr>\n",
       "    <tr>\n",
       "      <th>12</th>\n",
       "      <td>tywin-lannister</td>\n",
       "      <td>Tywin Lannister</td>\n",
       "      <td>48</td>\n",
       "      <td>0.014931</td>\n",
       "    </tr>\n",
       "    <tr>\n",
       "      <th>13</th>\n",
       "      <td>varys</td>\n",
       "      <td>Varys</td>\n",
       "      <td>34</td>\n",
       "      <td>0.009992</td>\n",
       "    </tr>\n",
       "  </tbody>\n",
       "</table>\n",
       "</div>"
      ],
      "text/plain": [
       "                   Id              Label  Degree  Betweenness\n",
       "0       catelyn-stark      Catelyn Stark      75     0.049472\n",
       "1    cersei-lannister   Cersei Lannister      97     0.096565\n",
       "2        eddard-stark       Eddard Stark      74     0.049630\n",
       "3     jaime-lannister    Jaime Lannister     101     0.081718\n",
       "4   joffrey-baratheon  Joffrey Baratheon      69     0.034769\n",
       "5       petyr-baelish      Petyr Baelish      47     0.032587\n",
       "6     renly-baratheon    Renly Baratheon      38     0.011139\n",
       "7          robb-stark         Robb Stark      74     0.056787\n",
       "8    robert-baratheon   Robert Baratheon      65     0.079058\n",
       "9         sansa-stark        Sansa Stark      75     0.058324\n",
       "10  stannis-baratheon  Stannis Baratheon      89     0.098967\n",
       "11   tyrion-lannister   Tyrion Lannister     122     0.147212\n",
       "12    tywin-lannister    Tywin Lannister      48     0.014931\n",
       "13              varys              Varys      34     0.009992"
      ]
     },
     "execution_count": 6,
     "metadata": {},
     "output_type": "execute_result"
    }
   ],
   "source": [
    "print(\"Maximum Clique Node Table:\")\n",
    "print(\" \")\n",
    "node_trim = pd.DataFrame([i[1] for i in G_trim.nodes(data=True)], index=[i[0] for i in G_trim.nodes(data=True)])\n",
    "node_trim = node_trim.reset_index()\n",
    "node_trim = node_trim.rename(columns = {'index': 'Id'})\n",
    "degree = pd.DataFrame(list(G.degree().items()), columns=['Id','Degree'])\n",
    "node_trim_degree = pd.merge(node_trim, degree, how = 'left', on = ['Id'])\n",
    "betweenness = nx.betweenness_centrality(G_trim)\n",
    "betweenness_df = pd.DataFrame(list(betweenness.items()), columns=['Id','Betweenness'])\n",
    "node_trim_degree_betweenness = pd.merge(node_trim_degree, betweenness_df, how = 'left', on = ['Id'])\n",
    "max_clique_df = node_trim_degree_betweenness[node_trim_degree_betweenness['Id'].isin(max_clique[0])]\n",
    "max_clique_df.sort_values(['Allegiances'])\n",
    "max_clique_df[['Id','Label','Degree','Betweenness']].sort_values(by=['Label'], ascending = True).reset_index().drop('index',axis=1)"
   ]
  },
  {
   "cell_type": "markdown",
   "metadata": {},
   "source": [
    "### Advantages\n",
    "\n",
    "- Clique detection identifies groups that are connected as much as possible which is important for understanding dependencies."
   ]
  },
  {
   "cell_type": "markdown",
   "metadata": {},
   "source": [
    "### Disadvantages\n",
    "\n",
    "- The clique decision problem is [NP-complete](https://en.wikipedia.org/wiki/NP-completeness). \n",
    "<br>\n",
    "<br>\n",
    "- It is NP meaning there is not a known algorithm for calculating the solution in a polynomial number of steps.\n",
    "<br>\n",
    "<br>\n",
    "- It is also NP-hard because the only known algorithm for identifying cliques tests all possible subsets of the vertices."
   ]
  },
  {
   "cell_type": "markdown",
   "metadata": {},
   "source": [
    "## Types of Community Detection\n",
    "\n",
    "* [Minimum-cut Method](https://www.hackerearth.com/practice/algorithms/graphs/min-cut/tutorial/): calculates the minimum sum of weights of at least one edge that when removed from the graph divides the graph into two groups\n",
    "<br>\n",
    "<br>\n",
    "* [Hierarchical Clustering](http://www.analytictech.com/networks/hiclus.htm): arranges the network into a hierarchy of groups according to a specified weight function\n",
    "<br>\n",
    "<br>\n",
    "* [Girvan-Newman Algorithm](https://en.wikipedia.org/wiki/Girvan%E2%80%93Newman_algorithm): detects communities by focusing on edges that are most likely between communities (i.e. betweenness centrality extended to edges)\n",
    "<br>\n",
    "<br>\n",
    "* [Modularity Maximization](https://www.cs.cmu.edu/~ckingsf/bioinfo-lectures/modularity.pdf): aims to maximize the modularity of a network using a random model of the network and calculaing the probabilities of edges connecting any two nodes"
   ]
  },
  {
   "cell_type": "markdown",
   "metadata": {},
   "source": [
    "# Conclusion"
   ]
  },
  {
   "cell_type": "markdown",
   "metadata": {},
   "source": [
    "***Circling back to our goal for the analysis, who have we identified as the most important characters within our data?***"
   ]
  },
  {
   "cell_type": "code",
   "execution_count": 7,
   "metadata": {
    "collapsed": false
   },
   "outputs": [
    {
     "name": "stdout",
     "output_type": "stream",
     "text": [
      "Game of Nodes Prediction Table:\n",
      " \n"
     ]
    },
    {
     "data": {
      "text/html": [
       "<div>\n",
       "<table border=\"1\" class=\"dataframe\">\n",
       "  <thead>\n",
       "    <tr style=\"text-align: right;\">\n",
       "      <th></th>\n",
       "      <th>Id</th>\n",
       "      <th>Label</th>\n",
       "      <th>Allegiances</th>\n",
       "      <th>Gender</th>\n",
       "      <th>Nobility</th>\n",
       "      <th>GoT</th>\n",
       "      <th>CoK</th>\n",
       "      <th>SoS</th>\n",
       "      <th>FfC</th>\n",
       "      <th>DwD</th>\n",
       "      <th>Dead</th>\n",
       "    </tr>\n",
       "  </thead>\n",
       "  <tbody>\n",
       "    <tr>\n",
       "      <th>0</th>\n",
       "      <td>theon-greyjoy</td>\n",
       "      <td>Theon Greyjoy</td>\n",
       "      <td>Greyjoy</td>\n",
       "      <td>1.0</td>\n",
       "      <td>1.0</td>\n",
       "      <td>1.0</td>\n",
       "      <td>1.0</td>\n",
       "      <td>0.0</td>\n",
       "      <td>0.0</td>\n",
       "      <td>1.0</td>\n",
       "      <td>0.0</td>\n",
       "    </tr>\n",
       "    <tr>\n",
       "      <th>1</th>\n",
       "      <td>cersei-lannister</td>\n",
       "      <td>Cersei Lannister</td>\n",
       "      <td>Lannister</td>\n",
       "      <td>0.0</td>\n",
       "      <td>1.0</td>\n",
       "      <td>1.0</td>\n",
       "      <td>1.0</td>\n",
       "      <td>1.0</td>\n",
       "      <td>1.0</td>\n",
       "      <td>1.0</td>\n",
       "      <td>0.0</td>\n",
       "    </tr>\n",
       "    <tr>\n",
       "      <th>2</th>\n",
       "      <td>jaime-lannister</td>\n",
       "      <td>Jaime Lannister</td>\n",
       "      <td>Lannister</td>\n",
       "      <td>1.0</td>\n",
       "      <td>1.0</td>\n",
       "      <td>1.0</td>\n",
       "      <td>1.0</td>\n",
       "      <td>1.0</td>\n",
       "      <td>1.0</td>\n",
       "      <td>1.0</td>\n",
       "      <td>0.0</td>\n",
       "    </tr>\n",
       "    <tr>\n",
       "      <th>3</th>\n",
       "      <td>tyrion-lannister</td>\n",
       "      <td>Tyrion Lannister</td>\n",
       "      <td>Lannister</td>\n",
       "      <td>1.0</td>\n",
       "      <td>1.0</td>\n",
       "      <td>1.0</td>\n",
       "      <td>1.0</td>\n",
       "      <td>1.0</td>\n",
       "      <td>0.0</td>\n",
       "      <td>1.0</td>\n",
       "      <td>0.0</td>\n",
       "    </tr>\n",
       "    <tr>\n",
       "      <th>4</th>\n",
       "      <td>jon-snow</td>\n",
       "      <td>Jon Snow</td>\n",
       "      <td>Night's Watch</td>\n",
       "      <td>1.0</td>\n",
       "      <td>1.0</td>\n",
       "      <td>1.0</td>\n",
       "      <td>1.0</td>\n",
       "      <td>1.0</td>\n",
       "      <td>1.0</td>\n",
       "      <td>1.0</td>\n",
       "      <td>0.0</td>\n",
       "    </tr>\n",
       "    <tr>\n",
       "      <th>5</th>\n",
       "      <td>samwell-tarly</td>\n",
       "      <td>Samwell Tarly</td>\n",
       "      <td>Night's Watch</td>\n",
       "      <td>1.0</td>\n",
       "      <td>1.0</td>\n",
       "      <td>1.0</td>\n",
       "      <td>1.0</td>\n",
       "      <td>1.0</td>\n",
       "      <td>1.0</td>\n",
       "      <td>1.0</td>\n",
       "      <td>0.0</td>\n",
       "    </tr>\n",
       "    <tr>\n",
       "      <th>6</th>\n",
       "      <td>petyr-baelish</td>\n",
       "      <td>Petyr Baelish</td>\n",
       "      <td>None</td>\n",
       "      <td>1.0</td>\n",
       "      <td>0.0</td>\n",
       "      <td>1.0</td>\n",
       "      <td>1.0</td>\n",
       "      <td>1.0</td>\n",
       "      <td>1.0</td>\n",
       "      <td>0.0</td>\n",
       "      <td>0.0</td>\n",
       "    </tr>\n",
       "    <tr>\n",
       "      <th>7</th>\n",
       "      <td>arya-stark</td>\n",
       "      <td>Arya Stark</td>\n",
       "      <td>Stark</td>\n",
       "      <td>0.0</td>\n",
       "      <td>1.0</td>\n",
       "      <td>1.0</td>\n",
       "      <td>1.0</td>\n",
       "      <td>1.0</td>\n",
       "      <td>1.0</td>\n",
       "      <td>1.0</td>\n",
       "      <td>0.0</td>\n",
       "    </tr>\n",
       "    <tr>\n",
       "      <th>8</th>\n",
       "      <td>brienne-of-tarth</td>\n",
       "      <td>Brienne of Tarth</td>\n",
       "      <td>Stark</td>\n",
       "      <td>0.0</td>\n",
       "      <td>1.0</td>\n",
       "      <td>0.0</td>\n",
       "      <td>1.0</td>\n",
       "      <td>1.0</td>\n",
       "      <td>1.0</td>\n",
       "      <td>1.0</td>\n",
       "      <td>0.0</td>\n",
       "    </tr>\n",
       "    <tr>\n",
       "      <th>9</th>\n",
       "      <td>bran-stark</td>\n",
       "      <td>Bran Stark</td>\n",
       "      <td>Stark</td>\n",
       "      <td>1.0</td>\n",
       "      <td>1.0</td>\n",
       "      <td>1.0</td>\n",
       "      <td>1.0</td>\n",
       "      <td>1.0</td>\n",
       "      <td>0.0</td>\n",
       "      <td>1.0</td>\n",
       "      <td>0.0</td>\n",
       "    </tr>\n",
       "    <tr>\n",
       "      <th>10</th>\n",
       "      <td>sansa-stark</td>\n",
       "      <td>Sansa Stark</td>\n",
       "      <td>Stark</td>\n",
       "      <td>0.0</td>\n",
       "      <td>1.0</td>\n",
       "      <td>1.0</td>\n",
       "      <td>1.0</td>\n",
       "      <td>1.0</td>\n",
       "      <td>1.0</td>\n",
       "      <td>0.0</td>\n",
       "      <td>0.0</td>\n",
       "    </tr>\n",
       "    <tr>\n",
       "      <th>11</th>\n",
       "      <td>daenerys-targaryen</td>\n",
       "      <td>Daenerys Targaryen</td>\n",
       "      <td>Targaryen</td>\n",
       "      <td>0.0</td>\n",
       "      <td>1.0</td>\n",
       "      <td>1.0</td>\n",
       "      <td>1.0</td>\n",
       "      <td>1.0</td>\n",
       "      <td>0.0</td>\n",
       "      <td>1.0</td>\n",
       "      <td>0.0</td>\n",
       "    </tr>\n",
       "    <tr>\n",
       "      <th>12</th>\n",
       "      <td>barristan-selmy</td>\n",
       "      <td>Barristan Selmy</td>\n",
       "      <td>Targaryen</td>\n",
       "      <td>1.0</td>\n",
       "      <td>1.0</td>\n",
       "      <td>1.0</td>\n",
       "      <td>1.0</td>\n",
       "      <td>1.0</td>\n",
       "      <td>0.0</td>\n",
       "      <td>1.0</td>\n",
       "      <td>0.0</td>\n",
       "    </tr>\n",
       "    <tr>\n",
       "      <th>13</th>\n",
       "      <td>varys</td>\n",
       "      <td>Varys</td>\n",
       "      <td>Targaryen</td>\n",
       "      <td>1.0</td>\n",
       "      <td>0.0</td>\n",
       "      <td>1.0</td>\n",
       "      <td>1.0</td>\n",
       "      <td>1.0</td>\n",
       "      <td>0.0</td>\n",
       "      <td>1.0</td>\n",
       "      <td>0.0</td>\n",
       "    </tr>\n",
       "    <tr>\n",
       "      <th>14</th>\n",
       "      <td>catelyn-stark</td>\n",
       "      <td>Catelyn Stark</td>\n",
       "      <td>NaN</td>\n",
       "      <td>NaN</td>\n",
       "      <td>NaN</td>\n",
       "      <td>NaN</td>\n",
       "      <td>NaN</td>\n",
       "      <td>NaN</td>\n",
       "      <td>NaN</td>\n",
       "      <td>NaN</td>\n",
       "      <td>NaN</td>\n",
       "    </tr>\n",
       "    <tr>\n",
       "      <th>15</th>\n",
       "      <td>stannis-baratheon</td>\n",
       "      <td>Stannis Baratheon</td>\n",
       "      <td>NaN</td>\n",
       "      <td>NaN</td>\n",
       "      <td>NaN</td>\n",
       "      <td>NaN</td>\n",
       "      <td>NaN</td>\n",
       "      <td>NaN</td>\n",
       "      <td>NaN</td>\n",
       "      <td>NaN</td>\n",
       "      <td>NaN</td>\n",
       "    </tr>\n",
       "  </tbody>\n",
       "</table>\n",
       "</div>"
      ],
      "text/plain": [
       "                    Id               Label    Allegiances  Gender  Nobility  \\\n",
       "0        theon-greyjoy       Theon Greyjoy        Greyjoy     1.0       1.0   \n",
       "1     cersei-lannister    Cersei Lannister      Lannister     0.0       1.0   \n",
       "2      jaime-lannister     Jaime Lannister      Lannister     1.0       1.0   \n",
       "3     tyrion-lannister    Tyrion Lannister      Lannister     1.0       1.0   \n",
       "4             jon-snow            Jon Snow  Night's Watch     1.0       1.0   \n",
       "5        samwell-tarly       Samwell Tarly  Night's Watch     1.0       1.0   \n",
       "6        petyr-baelish       Petyr Baelish           None     1.0       0.0   \n",
       "7           arya-stark          Arya Stark          Stark     0.0       1.0   \n",
       "8     brienne-of-tarth    Brienne of Tarth          Stark     0.0       1.0   \n",
       "9           bran-stark          Bran Stark          Stark     1.0       1.0   \n",
       "10         sansa-stark         Sansa Stark          Stark     0.0       1.0   \n",
       "11  daenerys-targaryen  Daenerys Targaryen      Targaryen     0.0       1.0   \n",
       "12     barristan-selmy     Barristan Selmy      Targaryen     1.0       1.0   \n",
       "13               varys               Varys      Targaryen     1.0       0.0   \n",
       "14       catelyn-stark       Catelyn Stark            NaN     NaN       NaN   \n",
       "15   stannis-baratheon   Stannis Baratheon            NaN     NaN       NaN   \n",
       "\n",
       "    GoT  CoK  SoS  FfC  DwD  Dead  \n",
       "0   1.0  1.0  0.0  0.0  1.0   0.0  \n",
       "1   1.0  1.0  1.0  1.0  1.0   0.0  \n",
       "2   1.0  1.0  1.0  1.0  1.0   0.0  \n",
       "3   1.0  1.0  1.0  0.0  1.0   0.0  \n",
       "4   1.0  1.0  1.0  1.0  1.0   0.0  \n",
       "5   1.0  1.0  1.0  1.0  1.0   0.0  \n",
       "6   1.0  1.0  1.0  1.0  0.0   0.0  \n",
       "7   1.0  1.0  1.0  1.0  1.0   0.0  \n",
       "8   0.0  1.0  1.0  1.0  1.0   0.0  \n",
       "9   1.0  1.0  1.0  0.0  1.0   0.0  \n",
       "10  1.0  1.0  1.0  1.0  0.0   0.0  \n",
       "11  1.0  1.0  1.0  0.0  1.0   0.0  \n",
       "12  1.0  1.0  1.0  0.0  1.0   0.0  \n",
       "13  1.0  1.0  1.0  0.0  1.0   0.0  \n",
       "14  NaN  NaN  NaN  NaN  NaN   NaN  \n",
       "15  NaN  NaN  NaN  NaN  NaN   NaN  "
      ]
     },
     "execution_count": 7,
     "metadata": {},
     "output_type": "execute_result"
    }
   ],
   "source": [
    "most_popular = dict((i,j) for i,j in G.degree().items() if j >= 40)\n",
    "G_deg = G_trim.subgraph(most_popular.keys())\n",
    "most_popular_df = node_trim_degree[node_trim_degree['Id'].isin(G_deg)]\n",
    "x = most_popular_df[[\"Id\"]]\n",
    "\n",
    "def max_betweenness(G):\n",
    " ranking = betweenness.items()\n",
    " r = [x[1] for x in ranking]\n",
    " m = sum(r)/len(r) # mean centrality\n",
    " t = m*5 # threshold, we keep only the nodes with 5 times the mean\n",
    " Gt = G_trim.copy()\n",
    " for k, v in ranking:\n",
    "  if v < t:\n",
    "   Gt.remove_node(k)\n",
    " return Gt\n",
    "G_bc = max_betweenness(G_trim)\n",
    "betweenness_centrality_df = node_trim_degree_betweenness[node_trim_degree_betweenness['Id'].isin(G_bc)]\n",
    "y = betweenness_centrality_df[[\"Id\"]]\n",
    "\n",
    "z = max_clique_df[[\"Id\"]]\n",
    "\n",
    "print(\"Game of Nodes Prediction Table:\")\n",
    "print(\" \")\n",
    "merge_df = pd.merge(x, y, how='outer', on = 'Id')\n",
    "key_nodes = pd.merge(merge_df, z, how='outer', on = 'Id')\n",
    "pred = pd.merge(key_nodes, node, how='left', on = 'Id')\n",
    "pred[pred['Dead'] != 1].sort_values(['Allegiances']).reset_index().drop('index',axis=1)"
   ]
  },
  {
   "cell_type": "markdown",
   "metadata": {},
   "source": [
    "When we first introduced the data problem, we showed you a relational dataset with nearly 800 different characters and over 2,800 interactions. Our goal was to prove to you that we could key in on the most important individuals in our graph. Through visualization, path analysis, centrality, and community detection, we leave you with the 16 individuals above who we expect to be the key contributors to the plot; that's a 98% reduction in characters!! We hope that these notebooks give you a better understanding of graphs and a new skill or two for your toolbox."
   ]
  }
 ],
 "metadata": {
  "hide_input": true,
  "kernelspec": {
   "display_name": "Python 3",
   "language": "python",
   "name": "python3"
  },
  "language_info": {
   "codemirror_mode": {
    "name": "ipython",
    "version": 3
   },
   "file_extension": ".py",
   "mimetype": "text/x-python",
   "name": "python",
   "nbconvert_exporter": "python",
   "pygments_lexer": "ipython3",
   "version": "3.6.0"
  }
 },
 "nbformat": 4,
 "nbformat_minor": 2
}
