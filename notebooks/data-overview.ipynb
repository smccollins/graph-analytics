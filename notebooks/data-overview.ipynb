{
 "cells": [
  {
   "cell_type": "markdown",
   "metadata": {
    "collapsed": true
   },
   "source": [
    "# Data Overview"
   ]
  },
  {
   "cell_type": "markdown",
   "metadata": {},
   "source": [
    "#### Objectives:\n",
    "- Introduce data problem\n",
    "- Clean and prep source data\n",
    "- Exploratory data analysis to understand node and edge data\n",
    "- Create graph object"
   ]
  },
  {
   "cell_type": "markdown",
   "metadata": {},
   "source": [
    "# Data Problem\n",
    "Can you relate to either of the following scenarios?\n",
    "\n",
    "Scenario 1:\n",
    "\n",
    "***It's Monday morning and you see your co-workers huddled together furiously discussing something seemingly important. Upon approaching the group, you start to hear names of people and words that definitely do not relate to anything your team does daily. Who is Stark? Did they say dragons? What does hodor mean!? And, what the heck is a whitewalker!? Holy moly they are talking about Game of Thrones again and I could care less.***\n",
    "\n",
    "Scenario 2:\n",
    "\n",
    "***It's Sunday night at 9pm. You're ready for the newest episode of GOT. But wait, the recap is testing your memory all the way back to season one!! I don't even remember half of those charcters. Who are they again and why in the world are they important!? Aren't they dead?? This is going to be a tough episode to follow.***\n",
    "\n",
    "Fear not, fuzzy brains! Because we are going to play..."
   ]
  },
  {
   "cell_type": "markdown",
   "metadata": {},
   "source": [
    "## Game of Nodes!!!\n",
    "\n",
    "<img src=\"https://orig00.deviantart.net/f351/f/2014/094/b/3/play_the_game_by_betteo-d7d0925.jpg\" width=\"600\">\n",
    "\n",
    "Image Credit: [Patricio Betteo](http://betteo.blogspot.com)\n",
    "\n",
    "Even if you could careless or are a GoT master, we are going to uncover who the important characters are in Game of Thrones using graph analytics. This will demonstrate how graph analytics is a powerful technique for quickly drawing conclusions from large amounts of complex, relational data. "
   ]
  },
  {
   "cell_type": "markdown",
   "metadata": {},
   "source": [
    "### Data Prep\n",
    "Graph technologies tend to need incoming data in a certain format or file type in order to build the graph. For this workshop we will demonstrate building a graph from two datasets. One being the nodes and their attributes, and the other the edge file and attributes. \n",
    "\n",
    "The manipulation of the external data we are using in this workshop will not be covered as a lesson, but you can check out the prep steps in ~/notebooks/0X-data_prep.ipynb where we combined the two datasets."
   ]
  },
  {
   "cell_type": "markdown",
   "metadata": {},
   "source": [
    "### **Knowledge check:**\n",
    "***What are some example attributes for GOT characters for the nodes and edges that you think we will use?***"
   ]
  },
  {
   "cell_type": "markdown",
   "metadata": {
    "ExecuteTime": {
     "end_time": "2017-11-02T09:55:01.674061Z",
     "start_time": "2017-11-02T09:55:01.627256Z"
    }
   },
   "source": [
    "## Nodes Overview\n",
    "\n",
    "Looking at the values and counts in each column of our node data. Example of five rows in our data:"
   ]
  },
  {
   "cell_type": "code",
   "execution_count": 1,
   "metadata": {
    "ExecuteTime": {
     "end_time": "2017-12-13T08:35:45.075561Z",
     "start_time": "2017-12-13T08:35:35.004845Z"
    },
    "collapsed": false
   },
   "outputs": [],
   "source": [
    "import pandas as pd\n",
    "import numpy as np\n",
    "import matplotlib.pyplot as plt\n",
    "import os\n",
    "from math import pi\n",
    "\n",
    "from bokeh.models import ColumnDataSource, HoverTool, ranges, LabelSet, Range1d\n",
    "from bokeh.plotting import figure, show, output_file, save\n",
    "\n",
    "from IPython.display import IFrame"
   ]
  },
  {
   "cell_type": "code",
   "execution_count": 2,
   "metadata": {
    "ExecuteTime": {
     "end_time": "2017-12-13T08:35:45.225556Z",
     "start_time": "2017-12-13T08:35:45.085561Z"
    },
    "collapsed": false
   },
   "outputs": [
    {
     "data": {
      "text/html": [
       "<div>\n",
       "<table border=\"1\" class=\"dataframe\">\n",
       "  <thead>\n",
       "    <tr style=\"text-align: right;\">\n",
       "      <th></th>\n",
       "      <th>Id</th>\n",
       "      <th>Label</th>\n",
       "      <th>Allegiances</th>\n",
       "      <th>Gender</th>\n",
       "      <th>Nobility</th>\n",
       "      <th>GoT</th>\n",
       "      <th>CoK</th>\n",
       "      <th>SoS</th>\n",
       "      <th>FfC</th>\n",
       "      <th>DwD</th>\n",
       "      <th>Dead</th>\n",
       "    </tr>\n",
       "  </thead>\n",
       "  <tbody>\n",
       "    <tr>\n",
       "      <th>791</th>\n",
       "      <td>yorko-terys</td>\n",
       "      <td>Yorko Terys</td>\n",
       "      <td>NaN</td>\n",
       "      <td>NaN</td>\n",
       "      <td>NaN</td>\n",
       "      <td>NaN</td>\n",
       "      <td>NaN</td>\n",
       "      <td>NaN</td>\n",
       "      <td>NaN</td>\n",
       "      <td>NaN</td>\n",
       "      <td>NaN</td>\n",
       "    </tr>\n",
       "    <tr>\n",
       "      <th>792</th>\n",
       "      <td>ysilla</td>\n",
       "      <td>Ysilla</td>\n",
       "      <td>Targaryen</td>\n",
       "      <td>1.0</td>\n",
       "      <td>0.0</td>\n",
       "      <td>0.0</td>\n",
       "      <td>0.0</td>\n",
       "      <td>0.0</td>\n",
       "      <td>0.0</td>\n",
       "      <td>1.0</td>\n",
       "      <td>0.0</td>\n",
       "    </tr>\n",
       "    <tr>\n",
       "      <th>793</th>\n",
       "      <td>yurkhaz-zo-yunzak</td>\n",
       "      <td>Yurkhaz zo Yunzak</td>\n",
       "      <td>None</td>\n",
       "      <td>1.0</td>\n",
       "      <td>0.0</td>\n",
       "      <td>0.0</td>\n",
       "      <td>0.0</td>\n",
       "      <td>0.0</td>\n",
       "      <td>0.0</td>\n",
       "      <td>1.0</td>\n",
       "      <td>1.0</td>\n",
       "    </tr>\n",
       "    <tr>\n",
       "      <th>794</th>\n",
       "      <td>zei</td>\n",
       "      <td>Zei</td>\n",
       "      <td>Stark</td>\n",
       "      <td>0.0</td>\n",
       "      <td>0.0</td>\n",
       "      <td>0.0</td>\n",
       "      <td>0.0</td>\n",
       "      <td>1.0</td>\n",
       "      <td>0.0</td>\n",
       "      <td>0.0</td>\n",
       "      <td>0.0</td>\n",
       "    </tr>\n",
       "    <tr>\n",
       "      <th>795</th>\n",
       "      <td>zollo</td>\n",
       "      <td>Zollo</td>\n",
       "      <td>None</td>\n",
       "      <td>1.0</td>\n",
       "      <td>0.0</td>\n",
       "      <td>0.0</td>\n",
       "      <td>0.0</td>\n",
       "      <td>1.0</td>\n",
       "      <td>0.0</td>\n",
       "      <td>0.0</td>\n",
       "      <td>0.0</td>\n",
       "    </tr>\n",
       "  </tbody>\n",
       "</table>\n",
       "</div>"
      ],
      "text/plain": [
       "                    Id              Label Allegiances  Gender  Nobility  GoT  \\\n",
       "791        yorko-terys        Yorko Terys         NaN     NaN       NaN  NaN   \n",
       "792             ysilla             Ysilla   Targaryen     1.0       0.0  0.0   \n",
       "793  yurkhaz-zo-yunzak  Yurkhaz zo Yunzak        None     1.0       0.0  0.0   \n",
       "794                zei                Zei       Stark     0.0       0.0  0.0   \n",
       "795              zollo              Zollo        None     1.0       0.0  0.0   \n",
       "\n",
       "     CoK  SoS  FfC  DwD  Dead  \n",
       "791  NaN  NaN  NaN  NaN   NaN  \n",
       "792  0.0  0.0  0.0  1.0   0.0  \n",
       "793  0.0  0.0  0.0  1.0   1.0  \n",
       "794  0.0  1.0  0.0  0.0   0.0  \n",
       "795  0.0  1.0  0.0  0.0   0.0  "
      ]
     },
     "execution_count": 2,
     "metadata": {},
     "output_type": "execute_result"
    }
   ],
   "source": [
    "# Character node dataset with attributes\n",
    "node = pd.read_csv(\"../data/processed/character_interactions_node.csv\", sep= \",\", keep_default_na=False, na_values=[''])\n",
    "node.tail()"
   ]
  },
  {
   "cell_type": "markdown",
   "metadata": {},
   "source": [
    "**Number of Characters**"
   ]
  },
  {
   "cell_type": "code",
   "execution_count": 3,
   "metadata": {
    "ExecuteTime": {
     "end_time": "2017-12-13T08:35:45.365552Z",
     "start_time": "2017-12-13T08:35:45.245556Z"
    },
    "code_folding": [],
    "collapsed": false
   },
   "outputs": [
    {
     "data": {
      "text/plain": [
       "count         796\n",
       "unique        796\n",
       "top       cressen\n",
       "freq            1\n",
       "Name: Id, dtype: object"
      ]
     },
     "execution_count": 3,
     "metadata": {},
     "output_type": "execute_result"
    }
   ],
   "source": [
    "node['Id'].describe() # Number of Characters"
   ]
  },
  {
   "cell_type": "markdown",
   "metadata": {},
   "source": [
    "**Number of Characters in House Allegiances**"
   ]
  },
  {
   "cell_type": "code",
   "execution_count": 4,
   "metadata": {
    "ExecuteTime": {
     "end_time": "2017-12-13T08:35:45.725541Z",
     "start_time": "2017-12-13T08:35:45.415551Z"
    },
    "collapsed": false
   },
   "outputs": [
    {
     "data": {
      "text/html": [
       "\n",
       "        <iframe\n",
       "            width=\"700\"\n",
       "            height=\"400\"\n",
       "            src=\"../img/allegiances_distribution.html\"\n",
       "            frameborder=\"0\"\n",
       "            allowfullscreen\n",
       "        ></iframe>\n",
       "        "
      ],
      "text/plain": [
       "<IPython.lib.display.IFrame at 0x9a3efd0>"
      ]
     },
     "execution_count": 4,
     "metadata": {},
     "output_type": "execute_result"
    }
   ],
   "source": [
    "# Distribution of allegiances visual\n",
    "dist_houses = pd.DataFrame(node['Allegiances'].value_counts()).\\\n",
    "                    reset_index().\\\n",
    "                    rename(columns={'index': 'Allegiances', 'Allegiances': 'char_count'})\n",
    "    \n",
    "source = ColumnDataSource(dist_houses)\n",
    "source.data['index']=source.data['index']+0.5\n",
    "names = dist_houses.Allegiances.tolist()\n",
    "\n",
    "h = figure(plot_width=400, \n",
    "           plot_height=400, \n",
    "           y_range = names,\n",
    "          title = \"Allegiance Distribution\")\n",
    "h.hbar(y='index', height=0.9, left=0,\n",
    "       right='char_count', color=\"navy\", source=source)\n",
    "\n",
    "h.add_tools(HoverTool(tooltips=[(\"Count\",\"@char_count\")]))\n",
    "\n",
    "output_file(\"../img/allegiances_distribution.html\")\n",
    "save(h,filename='../img/allegiances_distribution.html')\n",
    "\n",
    "#Workaround for displaying bokeh\n",
    "IFrame('../img/allegiances_distribution.html', width=700, height=400)"
   ]
  },
  {
   "cell_type": "markdown",
   "metadata": {},
   "source": [
    "**Gender (1=Male, 0=Female)**"
   ]
  },
  {
   "cell_type": "code",
   "execution_count": 5,
   "metadata": {
    "ExecuteTime": {
     "end_time": "2017-12-13T08:35:45.877538Z",
     "start_time": "2017-12-13T08:35:45.725541Z"
    },
    "collapsed": false
   },
   "outputs": [
    {
     "name": "stdout",
     "output_type": "stream",
     "text": [
      "1.0    467\n",
      "0.0    101\n",
      "Name: Gender, dtype: int64\n"
     ]
    },
    {
     "data": {
      "text/plain": [
       "False    568\n",
       "True     228\n",
       "Name: Gender, dtype: int64"
      ]
     },
     "execution_count": 5,
     "metadata": {},
     "output_type": "execute_result"
    }
   ],
   "source": [
    "print(node.Gender.value_counts())\n",
    "node.Gender.isnull().value_counts()"
   ]
  },
  {
   "cell_type": "markdown",
   "metadata": {},
   "source": [
    "**Nobility (1=Noble, 0=Not noble)**"
   ]
  },
  {
   "cell_type": "code",
   "execution_count": 6,
   "metadata": {
    "ExecuteTime": {
     "end_time": "2017-12-13T08:35:45.927536Z",
     "start_time": "2017-12-13T08:35:45.897537Z"
    },
    "collapsed": false
   },
   "outputs": [
    {
     "name": "stdout",
     "output_type": "stream",
     "text": [
      "0.0    293\n",
      "1.0    275\n",
      "Name: Nobility, dtype: int64\n"
     ]
    },
    {
     "data": {
      "text/plain": [
       "False    568\n",
       "True     228\n",
       "Name: Nobility, dtype: int64"
      ]
     },
     "execution_count": 6,
     "metadata": {},
     "output_type": "execute_result"
    }
   ],
   "source": [
    "print(node.Nobility.value_counts())\n",
    "node.Nobility.isnull().value_counts()"
   ]
  },
  {
   "cell_type": "markdown",
   "metadata": {},
   "source": [
    "**Dead Characters (1=Alive, 0=Dead)**"
   ]
  },
  {
   "cell_type": "code",
   "execution_count": 7,
   "metadata": {
    "ExecuteTime": {
     "end_time": "2017-12-13T08:35:45.977535Z",
     "start_time": "2017-12-13T08:35:45.947536Z"
    },
    "collapsed": false
   },
   "outputs": [
    {
     "name": "stdout",
     "output_type": "stream",
     "text": [
      "0.0    364\n",
      "1.0    204\n",
      "Name: Dead, dtype: int64\n"
     ]
    },
    {
     "data": {
      "text/plain": [
       "False    568\n",
       "True     228\n",
       "Name: Dead, dtype: int64"
      ]
     },
     "execution_count": 7,
     "metadata": {},
     "output_type": "execute_result"
    }
   ],
   "source": [
    "print(node.Dead.value_counts())\n",
    "node.Dead.isnull().value_counts()"
   ]
  },
  {
   "cell_type": "markdown",
   "metadata": {},
   "source": [
    "**Number of Characters Appearing in Each Book**"
   ]
  },
  {
   "cell_type": "code",
   "execution_count": 8,
   "metadata": {
    "ExecuteTime": {
     "end_time": "2017-12-13T08:35:46.190532Z",
     "start_time": "2017-12-13T08:35:45.987535Z"
    },
    "code_folding": [],
    "collapsed": false
   },
   "outputs": [
    {
     "data": {
      "text/html": [
       "\n",
       "        <iframe\n",
       "            width=\"700\"\n",
       "            height=\"400\"\n",
       "            src=\"../img/book_distribution.html\"\n",
       "            frameborder=\"0\"\n",
       "            allowfullscreen\n",
       "        ></iframe>\n",
       "        "
      ],
      "text/plain": [
       "<IPython.lib.display.IFrame at 0x4838ba8>"
      ]
     },
     "execution_count": 8,
     "metadata": {},
     "output_type": "execute_result"
    }
   ],
   "source": [
    "# Number of characters in each book\n",
    "book_chars = pd.DataFrame(node[['GoT','CoK','SoS','FfC','DwD']].sum()).\\\n",
    "                    reset_index().\\\n",
    "                    rename(columns={'index': 'Books', 0: 'char_count'})\n",
    "        \n",
    "source = ColumnDataSource(book_chars)\n",
    "source.data['index']=source.data['index']+0.5\n",
    "\n",
    "names = book_chars.Books.tolist()\n",
    "\n",
    "h = figure(plot_width=400, \n",
    "           plot_height=400, \n",
    "           y_range = names,\n",
    "          title = \"Character Distribution by Book\")\n",
    "h.hbar(y=\"index\", height=0.9, left=0,\n",
    "       right=\"char_count\", color=\"navy\", source=source)\n",
    "\n",
    "h.add_tools(HoverTool(tooltips=[(\"Count\",\"@char_count\")]))\n",
    "\n",
    "\n",
    "output_file(\"../img/book_distribution.html\")\n",
    "\n",
    "save(h, filename=\"../img/book_distribution.html\")\n",
    "\n",
    "#Workaround for displaying bokeh\n",
    "IFrame('../img/book_distribution.html', width=700, height=400)"
   ]
  },
  {
   "cell_type": "markdown",
   "metadata": {},
   "source": [
    "#### Question?\n",
    "What are some comments we can make from seeing the amount of characters in each book? How could this attribute be used in our graph?"
   ]
  },
  {
   "cell_type": "markdown",
   "metadata": {
    "ExecuteTime": {
     "end_time": "2017-11-08T09:52:13.390861Z",
     "start_time": "2017-11-08T09:52:13.382861Z"
    }
   },
   "source": [
    "## Edges Overview\n",
    "\n",
    "Summarizing the values in our edge dataset. Top five rows of our dataset:"
   ]
  },
  {
   "cell_type": "code",
   "execution_count": 9,
   "metadata": {
    "ExecuteTime": {
     "end_time": "2017-12-13T08:35:46.331530Z",
     "start_time": "2017-12-13T08:35:46.198532Z"
    },
    "collapsed": false
   },
   "outputs": [
    {
     "name": "stdout",
     "output_type": "stream",
     "text": [
      "2823\n"
     ]
    },
    {
     "data": {
      "text/html": [
       "<div>\n",
       "<table border=\"1\" class=\"dataframe\">\n",
       "  <thead>\n",
       "    <tr style=\"text-align: right;\">\n",
       "      <th></th>\n",
       "      <th>Source</th>\n",
       "      <th>Target</th>\n",
       "      <th>weight</th>\n",
       "      <th>weight_inv</th>\n",
       "    </tr>\n",
       "  </thead>\n",
       "  <tbody>\n",
       "    <tr>\n",
       "      <th>0</th>\n",
       "      <td>addam-marbrand</td>\n",
       "      <td>brynden-tully</td>\n",
       "      <td>3</td>\n",
       "      <td>0.333333</td>\n",
       "    </tr>\n",
       "    <tr>\n",
       "      <th>1</th>\n",
       "      <td>addam-marbrand</td>\n",
       "      <td>cersei-lannister</td>\n",
       "      <td>3</td>\n",
       "      <td>0.333333</td>\n",
       "    </tr>\n",
       "    <tr>\n",
       "      <th>2</th>\n",
       "      <td>addam-marbrand</td>\n",
       "      <td>gyles-rosby</td>\n",
       "      <td>3</td>\n",
       "      <td>0.333333</td>\n",
       "    </tr>\n",
       "    <tr>\n",
       "      <th>3</th>\n",
       "      <td>addam-marbrand</td>\n",
       "      <td>jaime-lannister</td>\n",
       "      <td>14</td>\n",
       "      <td>0.071429</td>\n",
       "    </tr>\n",
       "    <tr>\n",
       "      <th>4</th>\n",
       "      <td>addam-marbrand</td>\n",
       "      <td>jalabhar-xho</td>\n",
       "      <td>3</td>\n",
       "      <td>0.333333</td>\n",
       "    </tr>\n",
       "  </tbody>\n",
       "</table>\n",
       "</div>"
      ],
      "text/plain": [
       "           Source            Target  weight  weight_inv\n",
       "0  addam-marbrand     brynden-tully       3    0.333333\n",
       "1  addam-marbrand  cersei-lannister       3    0.333333\n",
       "2  addam-marbrand       gyles-rosby       3    0.333333\n",
       "3  addam-marbrand   jaime-lannister      14    0.071429\n",
       "4  addam-marbrand      jalabhar-xho       3    0.333333"
      ]
     },
     "execution_count": 9,
     "metadata": {},
     "output_type": "execute_result"
    }
   ],
   "source": [
    "# Character Interactions edge dataset with attributes\n",
    "edge = pd.read_csv(\"../data/processed/character_interactions_edge.csv\", sep= \",\", keep_default_na=False, na_values=[''])\n",
    "print(len(edge))\n",
    "edge.head()"
   ]
  },
  {
   "cell_type": "markdown",
   "metadata": {},
   "source": [
    "**Weight Summary Statistics**"
   ]
  },
  {
   "cell_type": "code",
   "execution_count": 10,
   "metadata": {
    "ExecuteTime": {
     "end_time": "2017-12-13T08:35:46.371529Z",
     "start_time": "2017-12-13T08:35:46.351530Z"
    },
    "collapsed": false
   },
   "outputs": [
    {
     "name": "stdout",
     "output_type": "stream",
     "text": [
      "count    2823.000000\n",
      "mean       11.558271\n",
      "std        19.976281\n",
      "min         3.000000\n",
      "25%         3.000000\n",
      "50%         5.000000\n",
      "75%        11.000000\n",
      "max       334.000000\n",
      "Name: weight, dtype: float64\n"
     ]
    }
   ],
   "source": [
    "print(edge.weight.describe())"
   ]
  },
  {
   "cell_type": "markdown",
   "metadata": {},
   "source": [
    "**Weight Values Distribution Plot**"
   ]
  },
  {
   "cell_type": "code",
   "execution_count": 11,
   "metadata": {
    "ExecuteTime": {
     "end_time": "2017-12-13T08:35:46.583523Z",
     "start_time": "2017-12-13T08:35:46.371529Z"
    },
    "collapsed": false,
    "scrolled": true
   },
   "outputs": [
    {
     "data": {
      "text/html": [
       "\n",
       "        <iframe\n",
       "            width=\"900\"\n",
       "            height=\"350\"\n",
       "            src=\"../img/weight_distribution.html\"\n",
       "            frameborder=\"0\"\n",
       "            allowfullscreen\n",
       "        ></iframe>\n",
       "        "
      ],
      "text/plain": [
       "<IPython.lib.display.IFrame at 0x9a5c978>"
      ]
     },
     "execution_count": 11,
     "metadata": {},
     "output_type": "execute_result"
    }
   ],
   "source": [
    "# Weight distribution visual\n",
    "count, bins = np.histogram(edge.weight, bins = 'fd')\n",
    "count = np.append(count,[0])\n",
    "\n",
    "weight_hist = pd.DataFrame(data={'count':count, 'bins': bins})\n",
    "source = ColumnDataSource(weight_hist)\n",
    "\n",
    "h = figure(plot_width=700, \n",
    "           plot_height=300, \n",
    "           x_range=Range1d(0, max(source.data['bins'])), \n",
    "           y_range=Range1d(0, max(source.data['count'])),\n",
    "           title = \"Weight Distribution\")\n",
    "\n",
    "h.vbar(x='bins', top='count', width=0.5, color=\"navy\", source=source)\n",
    "\n",
    "h.add_tools(HoverTool(tooltips=[(\"Value\", \"@count\")]))\n",
    "output_file(\"../img/weight_distribution.html\")\n",
    "\n",
    "save(h, filename=\"../img/weight_distribution.html\")\n",
    "\n",
    "#Workaround for displaying bokeh\n",
    "IFrame('../img/weight_distribution.html', width=900, height=350 )"
   ]
  },
  {
   "cell_type": "markdown",
   "metadata": {},
   "source": [
    "**Looking at the top 25% of the weights**"
   ]
  },
  {
   "cell_type": "code",
   "execution_count": 12,
   "metadata": {
    "ExecuteTime": {
     "end_time": "2017-12-13T08:35:46.673521Z",
     "start_time": "2017-12-13T08:35:46.593523Z"
    },
    "collapsed": false,
    "scrolled": true
   },
   "outputs": [
    {
     "data": {
      "text/plain": [
       "count    729.000000\n",
       "mean      31.052126\n",
       "std       31.968477\n",
       "min       11.000000\n",
       "25%       14.000000\n",
       "50%       19.000000\n",
       "75%       34.000000\n",
       "max      334.000000\n",
       "Name: weight, dtype: float64"
      ]
     },
     "execution_count": 12,
     "metadata": {},
     "output_type": "execute_result"
    }
   ],
   "source": [
    "edge[edge.weight >= 11].weight.describe()"
   ]
  },
  {
   "cell_type": "markdown",
   "metadata": {},
   "source": [
    "**Finding characters with the max interaction count**"
   ]
  },
  {
   "cell_type": "code",
   "execution_count": 13,
   "metadata": {
    "ExecuteTime": {
     "end_time": "2017-12-13T08:35:46.733519Z",
     "start_time": "2017-12-13T08:35:46.683520Z"
    },
    "collapsed": false
   },
   "outputs": [
    {
     "data": {
      "text/html": [
       "<div>\n",
       "<table border=\"1\" class=\"dataframe\">\n",
       "  <thead>\n",
       "    <tr style=\"text-align: right;\">\n",
       "      <th></th>\n",
       "      <th>Id</th>\n",
       "      <th>Label</th>\n",
       "      <th>Allegiances</th>\n",
       "      <th>Gender</th>\n",
       "      <th>Nobility</th>\n",
       "      <th>GoT</th>\n",
       "      <th>CoK</th>\n",
       "      <th>SoS</th>\n",
       "      <th>FfC</th>\n",
       "      <th>DwD</th>\n",
       "      <th>Dead</th>\n",
       "    </tr>\n",
       "  </thead>\n",
       "  <tbody>\n",
       "    <tr>\n",
       "      <th>189</th>\n",
       "      <td>eddard-stark</td>\n",
       "      <td>Eddard Stark</td>\n",
       "      <td>Stark</td>\n",
       "      <td>1.0</td>\n",
       "      <td>1.0</td>\n",
       "      <td>1.0</td>\n",
       "      <td>0.0</td>\n",
       "      <td>0.0</td>\n",
       "      <td>0.0</td>\n",
       "      <td>0.0</td>\n",
       "      <td>1.0</td>\n",
       "    </tr>\n",
       "    <tr>\n",
       "      <th>602</th>\n",
       "      <td>robert-baratheon</td>\n",
       "      <td>Robert Baratheon</td>\n",
       "      <td>Baratheon</td>\n",
       "      <td>1.0</td>\n",
       "      <td>1.0</td>\n",
       "      <td>1.0</td>\n",
       "      <td>0.0</td>\n",
       "      <td>0.0</td>\n",
       "      <td>0.0</td>\n",
       "      <td>0.0</td>\n",
       "      <td>1.0</td>\n",
       "    </tr>\n",
       "  </tbody>\n",
       "</table>\n",
       "</div>"
      ],
      "text/plain": [
       "                   Id             Label Allegiances  Gender  Nobility  GoT  \\\n",
       "189      eddard-stark      Eddard Stark       Stark     1.0       1.0  1.0   \n",
       "602  robert-baratheon  Robert Baratheon   Baratheon     1.0       1.0  1.0   \n",
       "\n",
       "     CoK  SoS  FfC  DwD  Dead  \n",
       "189  0.0  0.0  0.0  0.0   1.0  \n",
       "602  0.0  0.0  0.0  0.0   1.0  "
      ]
     },
     "execution_count": 13,
     "metadata": {},
     "output_type": "execute_result"
    }
   ],
   "source": [
    "# Finding character info with top interaction count\n",
    "top_interaction = edge[edge.weight == 334][['Source', 'Target']].values[0]\n",
    "node[node['Id'].isin(top_interaction)]"
   ]
  },
  {
   "cell_type": "markdown",
   "metadata": {},
   "source": [
    "## Create Graph Object\n",
    "\n",
    "Now that we understand the data we can create our graph object."
   ]
  },
  {
   "cell_type": "code",
   "execution_count": 14,
   "metadata": {
    "ExecuteTime": {
     "end_time": "2017-12-13T08:35:48.477468Z",
     "start_time": "2017-12-13T08:35:46.753518Z"
    },
    "collapsed": true
   },
   "outputs": [],
   "source": [
    "import networkx as nx"
   ]
  },
  {
   "cell_type": "code",
   "execution_count": 15,
   "metadata": {
    "ExecuteTime": {
     "end_time": "2017-12-13T08:35:48.637463Z",
     "start_time": "2017-12-13T08:35:48.497467Z"
    },
    "collapsed": false
   },
   "outputs": [],
   "source": [
    "# Build base graph from edge dataframe\n",
    "G = nx.from_pandas_dataframe(edge, 'Source', 'Target', ['weight', 'weight_inv'])"
   ]
  },
  {
   "cell_type": "code",
   "execution_count": 16,
   "metadata": {
    "ExecuteTime": {
     "end_time": "2017-12-13T08:35:59.931154Z",
     "start_time": "2017-12-13T08:35:48.677462Z"
    },
    "code_folding": [],
    "collapsed": false
   },
   "outputs": [],
   "source": [
    "# Adding node attributes\n",
    "for i in sorted(G.nodes()):\n",
    "    G.node[i]['Label'] = node.loc[node.Id == i,'Label'].values[0]\n",
    "    G.node[i]['Allegiances'] = node.loc[node.Id==i,'Allegiances'].values[0]\n",
    "    G.node[i]['Gender'] = node.loc[node.Id==i,'Gender'].values[0]\n",
    "    G.node[i]['Nobility'] = node.loc[node.Id==i,'Nobility'].values[0]\n",
    "    G.node[i]['GoT'] = node.loc[node.Id==i,'GoT'].values[0]\n",
    "    G.node[i]['CoK'] = node.loc[node.Id==i,'CoK'].values[0]\n",
    "    G.node[i]['SoS'] = node.loc[node.Id==i,'SoS'].values[0]\n",
    "    G.node[i]['FfC'] = node.loc[node.Id==i,'FfC'].values[0]\n",
    "    G.node[i]['DwD'] = node.loc[node.Id==i,'DwD'].values[0]\n",
    "    G.node[i]['Dead'] = node.loc[node.Id==i,'Dead'].values[0]"
   ]
  },
  {
   "cell_type": "markdown",
   "metadata": {},
   "source": [
    "**Summary of Graph**"
   ]
  },
  {
   "cell_type": "code",
   "execution_count": 17,
   "metadata": {
    "ExecuteTime": {
     "end_time": "2017-12-13T08:35:59.971152Z",
     "start_time": "2017-12-13T08:35:59.941153Z"
    },
    "collapsed": false
   },
   "outputs": [
    {
     "name": "stdout",
     "output_type": "stream",
     "text": [
      "Name: Game of Thrones Character Interactions\n",
      "Type: Graph\n",
      "Number of nodes: 796\n",
      "Number of edges: 2823\n",
      "Average degree:   7.0930\n"
     ]
    }
   ],
   "source": [
    "# Summary of graph object\n",
    "G.name = \"Game of Thrones Character Interactions\"\n",
    "print(nx.info(G))"
   ]
  },
  {
   "cell_type": "markdown",
   "metadata": {},
   "source": [
    "**Finding the same data from our dataframe in our graph! **   \n",
    "<br>\n",
    "Node attributes from our characters with the max weight"
   ]
  },
  {
   "cell_type": "code",
   "execution_count": 18,
   "metadata": {
    "ExecuteTime": {
     "end_time": "2017-12-13T08:36:00.031151Z",
     "start_time": "2017-12-13T08:35:59.991152Z"
    },
    "collapsed": false
   },
   "outputs": [
    {
     "name": "stdout",
     "output_type": "stream",
     "text": [
      "{'Label': 'Eddard Stark', 'Allegiances': 'Stark', 'Gender': 1.0, 'Nobility': 1.0, 'GoT': 1.0, 'CoK': 0.0, 'SoS': 0.0, 'FfC': 0.0, 'DwD': 0.0, 'Dead': 1.0}\n",
      "{'Label': 'Robert Baratheon', 'Allegiances': 'Baratheon', 'Gender': 1.0, 'Nobility': 1.0, 'GoT': 1.0, 'CoK': 0.0, 'SoS': 0.0, 'FfC': 0.0, 'DwD': 0.0, 'Dead': 1.0}\n"
     ]
    }
   ],
   "source": [
    "# Print sample node info (top two interactive characters)\n",
    "for i in ['eddard-stark','robert-baratheon']:\n",
    "    print(G.node[i])"
   ]
  },
  {
   "cell_type": "markdown",
   "metadata": {},
   "source": [
    "Edge attribute from those two characters"
   ]
  },
  {
   "cell_type": "code",
   "execution_count": 19,
   "metadata": {
    "ExecuteTime": {
     "end_time": "2017-12-13T08:36:00.211145Z",
     "start_time": "2017-12-13T08:36:00.081149Z"
    },
    "collapsed": false
   },
   "outputs": [
    {
     "data": {
      "text/plain": [
       "{'weight': 334, 'weight_inv': 0.002994011976047905}"
      ]
     },
     "execution_count": 19,
     "metadata": {},
     "output_type": "execute_result"
    }
   ],
   "source": [
    "# Print sample edge info\n",
    "G.edge['eddard-stark']['robert-baratheon']"
   ]
  },
  {
   "cell_type": "code",
   "execution_count": 20,
   "metadata": {
    "ExecuteTime": {
     "end_time": "2017-12-13T08:36:00.393140Z",
     "start_time": "2017-12-13T08:36:00.241144Z"
    },
    "collapsed": true
   },
   "outputs": [],
   "source": [
    "# Saving graph object\n",
    "nx.write_gpickle(G,\"../data/processed/got_graph.gpickle\")"
   ]
  }
 ],
 "metadata": {
  "hide_input": false,
  "kernelspec": {
   "display_name": "Python 3",
   "language": "python",
   "name": "python3"
  },
  "language_info": {
   "codemirror_mode": {
    "name": "ipython",
    "version": 3
   },
   "file_extension": ".py",
   "mimetype": "text/x-python",
   "name": "python",
   "nbconvert_exporter": "python",
   "pygments_lexer": "ipython3",
   "version": "3.6.0"
  }
 },
 "nbformat": 4,
 "nbformat_minor": 2
}
